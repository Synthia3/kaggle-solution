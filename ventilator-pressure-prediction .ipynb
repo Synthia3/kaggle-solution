{
 "cells": [
  {
   "cell_type": "markdown",
   "id": "57ee2e02",
   "metadata": {},
   "source": [
    "##  Description on ventilator pressure.\n",
    "\n",
    "What do doctors do when a patient has trouble breathing? They use a ventilator to pump oxygen into a sedated patient's lungs via a tube in the windpipe.\n",
    "\n",
    "Current simulators are trained as an ensemble, where each model simulates a single lung setting. However, lungs and their attributes form a continuous space, so a parametric approach must be explored that would consider the differences in patient lungs.\n",
    "\n",
    "If successful, you'll help overcome the cost barrier of developing new methods for controlling mechanical ventilators. As a result, ventilator treatments may become more widely available to help patients breathe."
   ]
  },
  {
   "cell_type": "markdown",
   "id": "399c8313",
   "metadata": {},
   "source": [
    "## Problem Statement.\n",
    "\n",
    "The competition will be scored as the mean absolute error between the predicted and actual pressures during the inspiratory phase of each breath. The expiratory phase is not scored. The score is given by:\n",
    "\n",
    "where \n",
    " is the vector of predicted pressure and \n",
    " is the vector of actual pressures across all breaths in the test set.\n",
    "\n",
    "Submission File\n",
    "For each id in the test set, you must predict a value for the pressure variable. "
   ]
  },
  {
   "cell_type": "code",
   "execution_count": 1,
   "id": "ad1297af",
   "metadata": {
    "_cell_guid": "b1076dfc-b9ad-4769-8c92-a6c4dae69d19",
    "_uuid": "8f2839f25d086af736a60e9eeb907d3b93b6e0e5",
    "execution": {
     "iopub.execute_input": "2022-12-30T00:43:38.848921Z",
     "iopub.status.busy": "2022-12-30T00:43:38.847726Z",
     "iopub.status.idle": "2022-12-30T00:43:38.865273Z",
     "shell.execute_reply": "2022-12-30T00:43:38.863886Z"
    },
    "papermill": {
     "duration": 0.032383,
     "end_time": "2022-12-30T00:43:38.867888",
     "exception": false,
     "start_time": "2022-12-30T00:43:38.835505",
     "status": "completed"
    },
    "tags": []
   },
   "outputs": [
    {
     "name": "stdout",
     "output_type": "stream",
     "text": [
      "/kaggle/input/ventilator-pressure-prediction/sample_submission.csv\n",
      "/kaggle/input/ventilator-pressure-prediction/train.csv\n",
      "/kaggle/input/ventilator-pressure-prediction/test.csv\n"
     ]
    }
   ],
   "source": [
    "# This Python 3 environment comes with many helpful analytics libraries installed\n",
    "# It is defined by the kaggle/python Docker image: https://github.com/kaggle/docker-python\n",
    "# For example, here's several helpful packages to load\n",
    "\n",
    "import numpy as np # linear algebra\n",
    "import pandas as pd # data processing, CSV file I/O (e.g. pd.read_csv)\n",
    "\n",
    "# Input data files are available in the read-only \"../input/\" directory\n",
    "# For example, running this (by clicking run or pressing Shift+Enter) will list all files under the input directory\n",
    "\n",
    "import os\n",
    "for dirname, _, filenames in os.walk('/kaggle/input'):\n",
    "    for filename in filenames:\n",
    "        print(os.path.join(dirname, filename))\n",
    "\n",
    "# You can write up to 20GB to the current directory (/kaggle/working/) that gets preserved as output when you create a version using \"Save & Run All\" \n",
    "# You can also write temporary files to /kaggle/temp/, but they won't be saved outside of the current session"
   ]
  },
  {
   "cell_type": "markdown",
   "id": "51a722ba",
   "metadata": {
    "papermill": {
     "duration": 0.008089,
     "end_time": "2022-12-30T00:43:38.884761",
     "exception": false,
     "start_time": "2022-12-30T00:43:38.876672",
     "status": "completed"
    },
    "tags": []
   },
   "source": [
    "#  Import Libraries"
   ]
  },
  {
   "cell_type": "code",
   "execution_count": 2,
   "id": "2ff74458",
   "metadata": {
    "execution": {
     "iopub.execute_input": "2022-12-30T00:43:38.903827Z",
     "iopub.status.busy": "2022-12-30T00:43:38.903119Z",
     "iopub.status.idle": "2022-12-30T00:43:40.439056Z",
     "shell.execute_reply": "2022-12-30T00:43:40.437721Z"
    },
    "papermill": {
     "duration": 1.548932,
     "end_time": "2022-12-30T00:43:40.442123",
     "exception": false,
     "start_time": "2022-12-30T00:43:38.893191",
     "status": "completed"
    },
    "tags": []
   },
   "outputs": [],
   "source": [
    "import pandas as pd\n",
    "import numpy as np   \n",
    "import matplotlib.pyplot as plt\n",
    "import seaborn as sns\n",
    "from sklearn.ensemble import RandomForestRegressor\n",
    "from sklearn.model_selection import train_test_split\n",
    "from sklearn.preprocessing import MinMaxScaler\n",
    "from sklearn.metrics import mean_absolute_error \n",
    "from sklearn.metrics import mean_squared_error \n",
    "from sklearn.metrics import median_absolute_error"
   ]
  },
  {
   "cell_type": "markdown",
   "id": "f1968e9f",
   "metadata": {
    "papermill": {
     "duration": 0.008222,
     "end_time": "2022-12-30T00:43:40.459180",
     "exception": false,
     "start_time": "2022-12-30T00:43:40.450958",
     "status": "completed"
    },
    "tags": []
   },
   "source": [
    "# Reading test_data and train_data"
   ]
  },
  {
   "cell_type": "code",
   "execution_count": 3,
   "id": "7018ba6d",
   "metadata": {
    "execution": {
     "iopub.execute_input": "2022-12-30T00:43:40.478462Z",
     "iopub.status.busy": "2022-12-30T00:43:40.477664Z",
     "iopub.status.idle": "2022-12-30T00:43:55.757996Z",
     "shell.execute_reply": "2022-12-30T00:43:55.756450Z"
    },
    "papermill": {
     "duration": 15.293282,
     "end_time": "2022-12-30T00:43:55.760972",
     "exception": false,
     "start_time": "2022-12-30T00:43:40.467690",
     "status": "completed"
    },
    "tags": []
   },
   "outputs": [],
   "source": [
    "train_data=pd.read_csv('/kaggle/input/ventilator-pressure-prediction/train.csv')\n",
    "test_data=pd.read_csv('/kaggle/input/ventilator-pressure-prediction/test.csv')"
   ]
  },
  {
   "cell_type": "markdown",
   "id": "016e3b98",
   "metadata": {
    "papermill": {
     "duration": 0.008154,
     "end_time": "2022-12-30T00:43:55.779874",
     "exception": false,
     "start_time": "2022-12-30T00:43:55.771720",
     "status": "completed"
    },
    "tags": []
   },
   "source": [
    "# viewing the top 5 rows."
   ]
  },
  {
   "cell_type": "code",
   "execution_count": 4,
   "id": "a489ebc2",
   "metadata": {
    "execution": {
     "iopub.execute_input": "2022-12-30T00:43:55.799045Z",
     "iopub.status.busy": "2022-12-30T00:43:55.798143Z",
     "iopub.status.idle": "2022-12-30T00:43:55.822940Z",
     "shell.execute_reply": "2022-12-30T00:43:55.821694Z"
    },
    "papermill": {
     "duration": 0.037478,
     "end_time": "2022-12-30T00:43:55.825804",
     "exception": false,
     "start_time": "2022-12-30T00:43:55.788326",
     "status": "completed"
    },
    "tags": []
   },
   "outputs": [
    {
     "data": {
      "text/html": [
       "<div>\n",
       "<style scoped>\n",
       "    .dataframe tbody tr th:only-of-type {\n",
       "        vertical-align: middle;\n",
       "    }\n",
       "\n",
       "    .dataframe tbody tr th {\n",
       "        vertical-align: top;\n",
       "    }\n",
       "\n",
       "    .dataframe thead th {\n",
       "        text-align: right;\n",
       "    }\n",
       "</style>\n",
       "<table border=\"1\" class=\"dataframe\">\n",
       "  <thead>\n",
       "    <tr style=\"text-align: right;\">\n",
       "      <th></th>\n",
       "      <th>id</th>\n",
       "      <th>breath_id</th>\n",
       "      <th>R</th>\n",
       "      <th>C</th>\n",
       "      <th>time_step</th>\n",
       "      <th>u_in</th>\n",
       "      <th>u_out</th>\n",
       "      <th>pressure</th>\n",
       "    </tr>\n",
       "  </thead>\n",
       "  <tbody>\n",
       "    <tr>\n",
       "      <th>0</th>\n",
       "      <td>1</td>\n",
       "      <td>1</td>\n",
       "      <td>20</td>\n",
       "      <td>50</td>\n",
       "      <td>0.000000</td>\n",
       "      <td>0.083334</td>\n",
       "      <td>0</td>\n",
       "      <td>5.837492</td>\n",
       "    </tr>\n",
       "    <tr>\n",
       "      <th>1</th>\n",
       "      <td>2</td>\n",
       "      <td>1</td>\n",
       "      <td>20</td>\n",
       "      <td>50</td>\n",
       "      <td>0.033652</td>\n",
       "      <td>18.383041</td>\n",
       "      <td>0</td>\n",
       "      <td>5.907794</td>\n",
       "    </tr>\n",
       "    <tr>\n",
       "      <th>2</th>\n",
       "      <td>3</td>\n",
       "      <td>1</td>\n",
       "      <td>20</td>\n",
       "      <td>50</td>\n",
       "      <td>0.067514</td>\n",
       "      <td>22.509278</td>\n",
       "      <td>0</td>\n",
       "      <td>7.876254</td>\n",
       "    </tr>\n",
       "    <tr>\n",
       "      <th>3</th>\n",
       "      <td>4</td>\n",
       "      <td>1</td>\n",
       "      <td>20</td>\n",
       "      <td>50</td>\n",
       "      <td>0.101542</td>\n",
       "      <td>22.808822</td>\n",
       "      <td>0</td>\n",
       "      <td>11.742872</td>\n",
       "    </tr>\n",
       "    <tr>\n",
       "      <th>4</th>\n",
       "      <td>5</td>\n",
       "      <td>1</td>\n",
       "      <td>20</td>\n",
       "      <td>50</td>\n",
       "      <td>0.135756</td>\n",
       "      <td>25.355850</td>\n",
       "      <td>0</td>\n",
       "      <td>12.234987</td>\n",
       "    </tr>\n",
       "  </tbody>\n",
       "</table>\n",
       "</div>"
      ],
      "text/plain": [
       "   id  breath_id   R   C  time_step       u_in  u_out   pressure\n",
       "0   1          1  20  50   0.000000   0.083334      0   5.837492\n",
       "1   2          1  20  50   0.033652  18.383041      0   5.907794\n",
       "2   3          1  20  50   0.067514  22.509278      0   7.876254\n",
       "3   4          1  20  50   0.101542  22.808822      0  11.742872\n",
       "4   5          1  20  50   0.135756  25.355850      0  12.234987"
      ]
     },
     "execution_count": 4,
     "metadata": {},
     "output_type": "execute_result"
    }
   ],
   "source": [
    "train_data.head()"
   ]
  },
  {
   "cell_type": "markdown",
   "id": "19c90459",
   "metadata": {
    "papermill": {
     "duration": 0.008269,
     "end_time": "2022-12-30T00:43:55.843014",
     "exception": false,
     "start_time": "2022-12-30T00:43:55.834745",
     "status": "completed"
    },
    "tags": []
   },
   "source": [
    "#  Head of test_data"
   ]
  },
  {
   "cell_type": "code",
   "execution_count": 5,
   "id": "6681e0f2",
   "metadata": {
    "execution": {
     "iopub.execute_input": "2022-12-30T00:43:55.862158Z",
     "iopub.status.busy": "2022-12-30T00:43:55.861712Z",
     "iopub.status.idle": "2022-12-30T00:43:55.875699Z",
     "shell.execute_reply": "2022-12-30T00:43:55.874533Z"
    },
    "papermill": {
     "duration": 0.026334,
     "end_time": "2022-12-30T00:43:55.878053",
     "exception": false,
     "start_time": "2022-12-30T00:43:55.851719",
     "status": "completed"
    },
    "tags": []
   },
   "outputs": [
    {
     "data": {
      "text/html": [
       "<div>\n",
       "<style scoped>\n",
       "    .dataframe tbody tr th:only-of-type {\n",
       "        vertical-align: middle;\n",
       "    }\n",
       "\n",
       "    .dataframe tbody tr th {\n",
       "        vertical-align: top;\n",
       "    }\n",
       "\n",
       "    .dataframe thead th {\n",
       "        text-align: right;\n",
       "    }\n",
       "</style>\n",
       "<table border=\"1\" class=\"dataframe\">\n",
       "  <thead>\n",
       "    <tr style=\"text-align: right;\">\n",
       "      <th></th>\n",
       "      <th>id</th>\n",
       "      <th>breath_id</th>\n",
       "      <th>R</th>\n",
       "      <th>C</th>\n",
       "      <th>time_step</th>\n",
       "      <th>u_in</th>\n",
       "      <th>u_out</th>\n",
       "    </tr>\n",
       "  </thead>\n",
       "  <tbody>\n",
       "    <tr>\n",
       "      <th>0</th>\n",
       "      <td>1</td>\n",
       "      <td>0</td>\n",
       "      <td>5</td>\n",
       "      <td>20</td>\n",
       "      <td>0.000000</td>\n",
       "      <td>0.000000</td>\n",
       "      <td>0</td>\n",
       "    </tr>\n",
       "    <tr>\n",
       "      <th>1</th>\n",
       "      <td>2</td>\n",
       "      <td>0</td>\n",
       "      <td>5</td>\n",
       "      <td>20</td>\n",
       "      <td>0.031904</td>\n",
       "      <td>7.515046</td>\n",
       "      <td>0</td>\n",
       "    </tr>\n",
       "    <tr>\n",
       "      <th>2</th>\n",
       "      <td>3</td>\n",
       "      <td>0</td>\n",
       "      <td>5</td>\n",
       "      <td>20</td>\n",
       "      <td>0.063827</td>\n",
       "      <td>14.651675</td>\n",
       "      <td>0</td>\n",
       "    </tr>\n",
       "    <tr>\n",
       "      <th>3</th>\n",
       "      <td>4</td>\n",
       "      <td>0</td>\n",
       "      <td>5</td>\n",
       "      <td>20</td>\n",
       "      <td>0.095751</td>\n",
       "      <td>21.230610</td>\n",
       "      <td>0</td>\n",
       "    </tr>\n",
       "    <tr>\n",
       "      <th>4</th>\n",
       "      <td>5</td>\n",
       "      <td>0</td>\n",
       "      <td>5</td>\n",
       "      <td>20</td>\n",
       "      <td>0.127644</td>\n",
       "      <td>26.320956</td>\n",
       "      <td>0</td>\n",
       "    </tr>\n",
       "  </tbody>\n",
       "</table>\n",
       "</div>"
      ],
      "text/plain": [
       "   id  breath_id  R   C  time_step       u_in  u_out\n",
       "0   1          0  5  20   0.000000   0.000000      0\n",
       "1   2          0  5  20   0.031904   7.515046      0\n",
       "2   3          0  5  20   0.063827  14.651675      0\n",
       "3   4          0  5  20   0.095751  21.230610      0\n",
       "4   5          0  5  20   0.127644  26.320956      0"
      ]
     },
     "execution_count": 5,
     "metadata": {},
     "output_type": "execute_result"
    }
   ],
   "source": [
    "test_data.head()"
   ]
  },
  {
   "cell_type": "markdown",
   "id": "0811d2ad",
   "metadata": {
    "papermill": {
     "duration": 0.008687,
     "end_time": "2022-12-30T00:43:55.896296",
     "exception": false,
     "start_time": "2022-12-30T00:43:55.887609",
     "status": "completed"
    },
    "tags": []
   },
   "source": [
    "# Detailed Data "
   ]
  },
  {
   "cell_type": "code",
   "execution_count": 6,
   "id": "8fe48506",
   "metadata": {
    "execution": {
     "iopub.execute_input": "2022-12-30T00:43:55.916720Z",
     "iopub.status.busy": "2022-12-30T00:43:55.915576Z",
     "iopub.status.idle": "2022-12-30T00:43:55.940040Z",
     "shell.execute_reply": "2022-12-30T00:43:55.938555Z"
    },
    "papermill": {
     "duration": 0.037523,
     "end_time": "2022-12-30T00:43:55.942651",
     "exception": false,
     "start_time": "2022-12-30T00:43:55.905128",
     "status": "completed"
    },
    "tags": []
   },
   "outputs": [
    {
     "name": "stdout",
     "output_type": "stream",
     "text": [
      "<class 'pandas.core.frame.DataFrame'>\n",
      "RangeIndex: 6036000 entries, 0 to 6035999\n",
      "Data columns (total 8 columns):\n",
      " #   Column     Dtype  \n",
      "---  ------     -----  \n",
      " 0   id         int64  \n",
      " 1   breath_id  int64  \n",
      " 2   R          int64  \n",
      " 3   C          int64  \n",
      " 4   time_step  float64\n",
      " 5   u_in       float64\n",
      " 6   u_out      int64  \n",
      " 7   pressure   float64\n",
      "dtypes: float64(3), int64(5)\n",
      "memory usage: 368.4 MB\n"
     ]
    }
   ],
   "source": [
    "train_data.info()"
   ]
  },
  {
   "cell_type": "markdown",
   "id": "e262d4e6",
   "metadata": {
    "papermill": {
     "duration": 0.008664,
     "end_time": "2022-12-30T00:43:55.960516",
     "exception": false,
     "start_time": "2022-12-30T00:43:55.951852",
     "status": "completed"
    },
    "tags": []
   },
   "source": [
    "#  Data Summary"
   ]
  },
  {
   "cell_type": "code",
   "execution_count": 7,
   "id": "424674a2",
   "metadata": {
    "execution": {
     "iopub.execute_input": "2022-12-30T00:43:55.980665Z",
     "iopub.status.busy": "2022-12-30T00:43:55.980200Z",
     "iopub.status.idle": "2022-12-30T00:43:57.702998Z",
     "shell.execute_reply": "2022-12-30T00:43:57.701743Z"
    },
    "papermill": {
     "duration": 1.735981,
     "end_time": "2022-12-30T00:43:57.705693",
     "exception": false,
     "start_time": "2022-12-30T00:43:55.969712",
     "status": "completed"
    },
    "tags": []
   },
   "outputs": [
    {
     "data": {
      "text/html": [
       "<div>\n",
       "<style scoped>\n",
       "    .dataframe tbody tr th:only-of-type {\n",
       "        vertical-align: middle;\n",
       "    }\n",
       "\n",
       "    .dataframe tbody tr th {\n",
       "        vertical-align: top;\n",
       "    }\n",
       "\n",
       "    .dataframe thead th {\n",
       "        text-align: right;\n",
       "    }\n",
       "</style>\n",
       "<table border=\"1\" class=\"dataframe\">\n",
       "  <thead>\n",
       "    <tr style=\"text-align: right;\">\n",
       "      <th></th>\n",
       "      <th>id</th>\n",
       "      <th>breath_id</th>\n",
       "      <th>R</th>\n",
       "      <th>C</th>\n",
       "      <th>time_step</th>\n",
       "      <th>u_in</th>\n",
       "      <th>u_out</th>\n",
       "      <th>pressure</th>\n",
       "    </tr>\n",
       "  </thead>\n",
       "  <tbody>\n",
       "    <tr>\n",
       "      <th>count</th>\n",
       "      <td>6.036000e+06</td>\n",
       "      <td>6.036000e+06</td>\n",
       "      <td>6.036000e+06</td>\n",
       "      <td>6.036000e+06</td>\n",
       "      <td>6.036000e+06</td>\n",
       "      <td>6.036000e+06</td>\n",
       "      <td>6.036000e+06</td>\n",
       "      <td>6.036000e+06</td>\n",
       "    </tr>\n",
       "    <tr>\n",
       "      <th>mean</th>\n",
       "      <td>3.018000e+06</td>\n",
       "      <td>6.283886e+04</td>\n",
       "      <td>2.703618e+01</td>\n",
       "      <td>2.608072e+01</td>\n",
       "      <td>1.307225e+00</td>\n",
       "      <td>7.321615e+00</td>\n",
       "      <td>6.204493e-01</td>\n",
       "      <td>1.122041e+01</td>\n",
       "    </tr>\n",
       "    <tr>\n",
       "      <th>std</th>\n",
       "      <td>1.742443e+06</td>\n",
       "      <td>3.633526e+04</td>\n",
       "      <td>1.959549e+01</td>\n",
       "      <td>1.715231e+01</td>\n",
       "      <td>7.659778e-01</td>\n",
       "      <td>1.343470e+01</td>\n",
       "      <td>4.852752e-01</td>\n",
       "      <td>8.109703e+00</td>\n",
       "    </tr>\n",
       "    <tr>\n",
       "      <th>min</th>\n",
       "      <td>1.000000e+00</td>\n",
       "      <td>1.000000e+00</td>\n",
       "      <td>5.000000e+00</td>\n",
       "      <td>1.000000e+01</td>\n",
       "      <td>0.000000e+00</td>\n",
       "      <td>0.000000e+00</td>\n",
       "      <td>0.000000e+00</td>\n",
       "      <td>-1.895744e+00</td>\n",
       "    </tr>\n",
       "    <tr>\n",
       "      <th>25%</th>\n",
       "      <td>1.509001e+06</td>\n",
       "      <td>3.137700e+04</td>\n",
       "      <td>5.000000e+00</td>\n",
       "      <td>1.000000e+01</td>\n",
       "      <td>6.428995e-01</td>\n",
       "      <td>3.936623e-01</td>\n",
       "      <td>0.000000e+00</td>\n",
       "      <td>6.329607e+00</td>\n",
       "    </tr>\n",
       "    <tr>\n",
       "      <th>50%</th>\n",
       "      <td>3.018000e+06</td>\n",
       "      <td>6.276550e+04</td>\n",
       "      <td>2.000000e+01</td>\n",
       "      <td>2.000000e+01</td>\n",
       "      <td>1.308123e+00</td>\n",
       "      <td>4.386146e+00</td>\n",
       "      <td>1.000000e+00</td>\n",
       "      <td>7.032628e+00</td>\n",
       "    </tr>\n",
       "    <tr>\n",
       "      <th>75%</th>\n",
       "      <td>4.527000e+06</td>\n",
       "      <td>9.430100e+04</td>\n",
       "      <td>5.000000e+01</td>\n",
       "      <td>5.000000e+01</td>\n",
       "      <td>1.965502e+00</td>\n",
       "      <td>4.983895e+00</td>\n",
       "      <td>1.000000e+00</td>\n",
       "      <td>1.364103e+01</td>\n",
       "    </tr>\n",
       "    <tr>\n",
       "      <th>max</th>\n",
       "      <td>6.036000e+06</td>\n",
       "      <td>1.257490e+05</td>\n",
       "      <td>5.000000e+01</td>\n",
       "      <td>5.000000e+01</td>\n",
       "      <td>2.937238e+00</td>\n",
       "      <td>1.000000e+02</td>\n",
       "      <td>1.000000e+00</td>\n",
       "      <td>6.482099e+01</td>\n",
       "    </tr>\n",
       "  </tbody>\n",
       "</table>\n",
       "</div>"
      ],
      "text/plain": [
       "                 id     breath_id             R             C     time_step  \\\n",
       "count  6.036000e+06  6.036000e+06  6.036000e+06  6.036000e+06  6.036000e+06   \n",
       "mean   3.018000e+06  6.283886e+04  2.703618e+01  2.608072e+01  1.307225e+00   \n",
       "std    1.742443e+06  3.633526e+04  1.959549e+01  1.715231e+01  7.659778e-01   \n",
       "min    1.000000e+00  1.000000e+00  5.000000e+00  1.000000e+01  0.000000e+00   \n",
       "25%    1.509001e+06  3.137700e+04  5.000000e+00  1.000000e+01  6.428995e-01   \n",
       "50%    3.018000e+06  6.276550e+04  2.000000e+01  2.000000e+01  1.308123e+00   \n",
       "75%    4.527000e+06  9.430100e+04  5.000000e+01  5.000000e+01  1.965502e+00   \n",
       "max    6.036000e+06  1.257490e+05  5.000000e+01  5.000000e+01  2.937238e+00   \n",
       "\n",
       "               u_in         u_out      pressure  \n",
       "count  6.036000e+06  6.036000e+06  6.036000e+06  \n",
       "mean   7.321615e+00  6.204493e-01  1.122041e+01  \n",
       "std    1.343470e+01  4.852752e-01  8.109703e+00  \n",
       "min    0.000000e+00  0.000000e+00 -1.895744e+00  \n",
       "25%    3.936623e-01  0.000000e+00  6.329607e+00  \n",
       "50%    4.386146e+00  1.000000e+00  7.032628e+00  \n",
       "75%    4.983895e+00  1.000000e+00  1.364103e+01  \n",
       "max    1.000000e+02  1.000000e+00  6.482099e+01  "
      ]
     },
     "execution_count": 7,
     "metadata": {},
     "output_type": "execute_result"
    }
   ],
   "source": [
    "train_data.describe()"
   ]
  },
  {
   "cell_type": "markdown",
   "id": "5bf57e86",
   "metadata": {
    "papermill": {
     "duration": 0.009021,
     "end_time": "2022-12-30T00:43:57.724157",
     "exception": false,
     "start_time": "2022-12-30T00:43:57.715136",
     "status": "completed"
    },
    "tags": []
   },
   "source": [
    "# correlation"
   ]
  },
  {
   "cell_type": "code",
   "execution_count": 8,
   "id": "6ffbbaf9",
   "metadata": {
    "execution": {
     "iopub.execute_input": "2022-12-30T00:43:57.744969Z",
     "iopub.status.busy": "2022-12-30T00:43:57.744476Z",
     "iopub.status.idle": "2022-12-30T00:43:59.939872Z",
     "shell.execute_reply": "2022-12-30T00:43:59.938513Z"
    },
    "papermill": {
     "duration": 2.209873,
     "end_time": "2022-12-30T00:43:59.943292",
     "exception": false,
     "start_time": "2022-12-30T00:43:57.733419",
     "status": "completed"
    },
    "tags": []
   },
   "outputs": [
    {
     "data": {
      "text/html": [
       "<div>\n",
       "<style scoped>\n",
       "    .dataframe tbody tr th:only-of-type {\n",
       "        vertical-align: middle;\n",
       "    }\n",
       "\n",
       "    .dataframe tbody tr th {\n",
       "        vertical-align: top;\n",
       "    }\n",
       "\n",
       "    .dataframe thead th {\n",
       "        text-align: right;\n",
       "    }\n",
       "</style>\n",
       "<table border=\"1\" class=\"dataframe\">\n",
       "  <thead>\n",
       "    <tr style=\"text-align: right;\">\n",
       "      <th></th>\n",
       "      <th>id</th>\n",
       "      <th>breath_id</th>\n",
       "      <th>R</th>\n",
       "      <th>C</th>\n",
       "      <th>time_step</th>\n",
       "      <th>u_in</th>\n",
       "      <th>u_out</th>\n",
       "      <th>pressure</th>\n",
       "    </tr>\n",
       "  </thead>\n",
       "  <tbody>\n",
       "    <tr>\n",
       "      <th>id</th>\n",
       "      <td>1.000000</td>\n",
       "      <td>0.999999</td>\n",
       "      <td>0.001853</td>\n",
       "      <td>0.007222</td>\n",
       "      <td>-0.000199</td>\n",
       "      <td>-0.002380</td>\n",
       "      <td>-0.000089</td>\n",
       "      <td>-0.002402</td>\n",
       "    </tr>\n",
       "    <tr>\n",
       "      <th>breath_id</th>\n",
       "      <td>0.999999</td>\n",
       "      <td>1.000000</td>\n",
       "      <td>0.001860</td>\n",
       "      <td>0.007222</td>\n",
       "      <td>-0.000213</td>\n",
       "      <td>-0.002378</td>\n",
       "      <td>-0.000100</td>\n",
       "      <td>-0.002394</td>\n",
       "    </tr>\n",
       "    <tr>\n",
       "      <th>R</th>\n",
       "      <td>0.001853</td>\n",
       "      <td>0.001860</td>\n",
       "      <td>1.000000</td>\n",
       "      <td>-0.096070</td>\n",
       "      <td>-0.014535</td>\n",
       "      <td>-0.148120</td>\n",
       "      <td>-0.007594</td>\n",
       "      <td>0.015976</td>\n",
       "    </tr>\n",
       "    <tr>\n",
       "      <th>C</th>\n",
       "      <td>0.007222</td>\n",
       "      <td>0.007222</td>\n",
       "      <td>-0.096070</td>\n",
       "      <td>1.000000</td>\n",
       "      <td>0.004936</td>\n",
       "      <td>0.151002</td>\n",
       "      <td>0.003720</td>\n",
       "      <td>-0.036727</td>\n",
       "    </tr>\n",
       "    <tr>\n",
       "      <th>time_step</th>\n",
       "      <td>-0.000199</td>\n",
       "      <td>-0.000213</td>\n",
       "      <td>-0.014535</td>\n",
       "      <td>0.004936</td>\n",
       "      <td>1.000000</td>\n",
       "      <td>-0.352276</td>\n",
       "      <td>0.839191</td>\n",
       "      <td>-0.524829</td>\n",
       "    </tr>\n",
       "    <tr>\n",
       "      <th>u_in</th>\n",
       "      <td>-0.002380</td>\n",
       "      <td>-0.002378</td>\n",
       "      <td>-0.148120</td>\n",
       "      <td>0.151002</td>\n",
       "      <td>-0.352276</td>\n",
       "      <td>1.000000</td>\n",
       "      <td>-0.416985</td>\n",
       "      <td>0.308136</td>\n",
       "    </tr>\n",
       "    <tr>\n",
       "      <th>u_out</th>\n",
       "      <td>-0.000089</td>\n",
       "      <td>-0.000100</td>\n",
       "      <td>-0.007594</td>\n",
       "      <td>0.003720</td>\n",
       "      <td>0.839191</td>\n",
       "      <td>-0.416985</td>\n",
       "      <td>1.000000</td>\n",
       "      <td>-0.614910</td>\n",
       "    </tr>\n",
       "    <tr>\n",
       "      <th>pressure</th>\n",
       "      <td>-0.002402</td>\n",
       "      <td>-0.002394</td>\n",
       "      <td>0.015976</td>\n",
       "      <td>-0.036727</td>\n",
       "      <td>-0.524829</td>\n",
       "      <td>0.308136</td>\n",
       "      <td>-0.614910</td>\n",
       "      <td>1.000000</td>\n",
       "    </tr>\n",
       "  </tbody>\n",
       "</table>\n",
       "</div>"
      ],
      "text/plain": [
       "                 id  breath_id         R         C  time_step      u_in  \\\n",
       "id         1.000000   0.999999  0.001853  0.007222  -0.000199 -0.002380   \n",
       "breath_id  0.999999   1.000000  0.001860  0.007222  -0.000213 -0.002378   \n",
       "R          0.001853   0.001860  1.000000 -0.096070  -0.014535 -0.148120   \n",
       "C          0.007222   0.007222 -0.096070  1.000000   0.004936  0.151002   \n",
       "time_step -0.000199  -0.000213 -0.014535  0.004936   1.000000 -0.352276   \n",
       "u_in      -0.002380  -0.002378 -0.148120  0.151002  -0.352276  1.000000   \n",
       "u_out     -0.000089  -0.000100 -0.007594  0.003720   0.839191 -0.416985   \n",
       "pressure  -0.002402  -0.002394  0.015976 -0.036727  -0.524829  0.308136   \n",
       "\n",
       "              u_out  pressure  \n",
       "id        -0.000089 -0.002402  \n",
       "breath_id -0.000100 -0.002394  \n",
       "R         -0.007594  0.015976  \n",
       "C          0.003720 -0.036727  \n",
       "time_step  0.839191 -0.524829  \n",
       "u_in      -0.416985  0.308136  \n",
       "u_out      1.000000 -0.614910  \n",
       "pressure  -0.614910  1.000000  "
      ]
     },
     "execution_count": 8,
     "metadata": {},
     "output_type": "execute_result"
    },
    {
     "data": {
      "image/png": "[encoded data removed]",
      "text/plain": [
       "<Figure size 1440x720 with 2 Axes>"
      ]
     },
     "metadata": {
      "needs_background": "light"
     },
     "output_type": "display_data"
    }
   ],
   "source": [
    "Z=train_data.corr()\n",
    "plt.figure(figsize=(20,10))\n",
    "sns.heatmap(Z,annot=True,cmap='twilight_shifted')\n",
    "Z"
   ]
  },
  {
   "cell_type": "markdown",
   "id": "7f5cc2e0",
   "metadata": {
    "papermill": {
     "duration": 0.010048,
     "end_time": "2022-12-30T00:43:59.964022",
     "exception": false,
     "start_time": "2022-12-30T00:43:59.953974",
     "status": "completed"
    },
    "tags": []
   },
   "source": [
    "# Inquiring null data."
   ]
  },
  {
   "cell_type": "code",
   "execution_count": 9,
   "id": "0f7375f3",
   "metadata": {
    "execution": {
     "iopub.execute_input": "2022-12-30T00:43:59.986932Z",
     "iopub.status.busy": "2022-12-30T00:43:59.986467Z",
     "iopub.status.idle": "2022-12-30T00:44:00.161234Z",
     "shell.execute_reply": "2022-12-30T00:44:00.159760Z"
    },
    "papermill": {
     "duration": 0.189684,
     "end_time": "2022-12-30T00:44:00.163865",
     "exception": false,
     "start_time": "2022-12-30T00:43:59.974181",
     "status": "completed"
    },
    "tags": []
   },
   "outputs": [
    {
     "data": {
      "text/html": [
       "<div>\n",
       "<style scoped>\n",
       "    .dataframe tbody tr th:only-of-type {\n",
       "        vertical-align: middle;\n",
       "    }\n",
       "\n",
       "    .dataframe tbody tr th {\n",
       "        vertical-align: top;\n",
       "    }\n",
       "\n",
       "    .dataframe thead th {\n",
       "        text-align: right;\n",
       "    }\n",
       "</style>\n",
       "<table border=\"1\" class=\"dataframe\">\n",
       "  <thead>\n",
       "    <tr style=\"text-align: right;\">\n",
       "      <th></th>\n",
       "      <th>Number of null</th>\n",
       "      <th>percentage</th>\n",
       "    </tr>\n",
       "  </thead>\n",
       "  <tbody>\n",
       "    <tr>\n",
       "      <th>id</th>\n",
       "      <td>0</td>\n",
       "      <td>0.0</td>\n",
       "    </tr>\n",
       "    <tr>\n",
       "      <th>breath_id</th>\n",
       "      <td>0</td>\n",
       "      <td>0.0</td>\n",
       "    </tr>\n",
       "    <tr>\n",
       "      <th>R</th>\n",
       "      <td>0</td>\n",
       "      <td>0.0</td>\n",
       "    </tr>\n",
       "    <tr>\n",
       "      <th>C</th>\n",
       "      <td>0</td>\n",
       "      <td>0.0</td>\n",
       "    </tr>\n",
       "    <tr>\n",
       "      <th>time_step</th>\n",
       "      <td>0</td>\n",
       "      <td>0.0</td>\n",
       "    </tr>\n",
       "    <tr>\n",
       "      <th>u_in</th>\n",
       "      <td>0</td>\n",
       "      <td>0.0</td>\n",
       "    </tr>\n",
       "    <tr>\n",
       "      <th>u_out</th>\n",
       "      <td>0</td>\n",
       "      <td>0.0</td>\n",
       "    </tr>\n",
       "    <tr>\n",
       "      <th>pressure</th>\n",
       "      <td>0</td>\n",
       "      <td>0.0</td>\n",
       "    </tr>\n",
       "  </tbody>\n",
       "</table>\n",
       "</div>"
      ],
      "text/plain": [
       "           Number of null  percentage\n",
       "id                      0         0.0\n",
       "breath_id               0         0.0\n",
       "R                       0         0.0\n",
       "C                       0         0.0\n",
       "time_step               0         0.0\n",
       "u_in                    0         0.0\n",
       "u_out                   0         0.0\n",
       "pressure                0         0.0"
      ]
     },
     "execution_count": 9,
     "metadata": {},
     "output_type": "execute_result"
    }
   ],
   "source": [
    "data_null=pd.DataFrame(train_data.isnull().sum(),columns=['Number of null'])\n",
    "data_null['percentage']=(train_data.isnull().sum())/len(train_data)*100\n",
    "data_null"
   ]
  },
  {
   "cell_type": "markdown",
   "id": "8291d4d7",
   "metadata": {
    "papermill": {
     "duration": 0.010713,
     "end_time": "2022-12-30T00:44:00.185117",
     "exception": false,
     "start_time": "2022-12-30T00:44:00.174404",
     "status": "completed"
    },
    "tags": []
   },
   "source": [
    "# Checking for duplicate data"
   ]
  },
  {
   "cell_type": "code",
   "execution_count": 10,
   "id": "16673575",
   "metadata": {
    "execution": {
     "iopub.execute_input": "2022-12-30T00:44:00.209508Z",
     "iopub.status.busy": "2022-12-30T00:44:00.208499Z",
     "iopub.status.idle": "2022-12-30T00:44:07.648482Z",
     "shell.execute_reply": "2022-12-30T00:44:07.647468Z"
    },
    "papermill": {
     "duration": 7.455044,
     "end_time": "2022-12-30T00:44:07.650968",
     "exception": false,
     "start_time": "2022-12-30T00:44:00.195924",
     "status": "completed"
    },
    "tags": []
   },
   "outputs": [
    {
     "data": {
      "text/html": [
       "<div>\n",
       "<style scoped>\n",
       "    .dataframe tbody tr th:only-of-type {\n",
       "        vertical-align: middle;\n",
       "    }\n",
       "\n",
       "    .dataframe tbody tr th {\n",
       "        vertical-align: top;\n",
       "    }\n",
       "\n",
       "    .dataframe thead th {\n",
       "        text-align: right;\n",
       "    }\n",
       "</style>\n",
       "<table border=\"1\" class=\"dataframe\">\n",
       "  <thead>\n",
       "    <tr style=\"text-align: right;\">\n",
       "      <th></th>\n",
       "      <th>id</th>\n",
       "      <th>breath_id</th>\n",
       "      <th>R</th>\n",
       "      <th>C</th>\n",
       "      <th>time_step</th>\n",
       "      <th>u_in</th>\n",
       "      <th>u_out</th>\n",
       "      <th>pressure</th>\n",
       "    </tr>\n",
       "  </thead>\n",
       "  <tbody>\n",
       "  </tbody>\n",
       "</table>\n",
       "</div>"
      ],
      "text/plain": [
       "Empty DataFrame\n",
       "Columns: [id, breath_id, R, C, time_step, u_in, u_out, pressure]\n",
       "Index: []"
      ]
     },
     "execution_count": 10,
     "metadata": {},
     "output_type": "execute_result"
    }
   ],
   "source": [
    "train_data[train_data.duplicated()]"
   ]
  },
  {
   "cell_type": "markdown",
   "id": "a21b50c8",
   "metadata": {
    "papermill": {
     "duration": 0.010881,
     "end_time": "2022-12-30T00:44:07.672902",
     "exception": false,
     "start_time": "2022-12-30T00:44:07.662021",
     "status": "completed"
    },
    "tags": []
   },
   "source": [
    "# Data visualization \n",
    "\n",
    "Showing  distribution of some columns in the data"
   ]
  },
  {
   "cell_type": "code",
   "execution_count": 11,
   "id": "51841ede",
   "metadata": {
    "execution": {
     "iopub.execute_input": "2022-12-30T00:44:07.696722Z",
     "iopub.status.busy": "2022-12-30T00:44:07.695931Z",
     "iopub.status.idle": "2022-12-30T00:44:11.048244Z",
     "shell.execute_reply": "2022-12-30T00:44:11.046802Z"
    },
    "papermill": {
     "duration": 3.367483,
     "end_time": "2022-12-30T00:44:11.051138",
     "exception": false,
     "start_time": "2022-12-30T00:44:07.683655",
     "status": "completed"
    },
    "tags": []
   },
   "outputs": [
    {
     "data": {
      "image/png": "[encoded data removed]",
      "text/plain": [
       "<Figure size 432x288 with 1 Axes>"
      ]
     },
     "metadata": {
      "needs_background": "light"
     },
     "output_type": "display_data"
    },
    {
     "data": {
      "image/png": "[encoded data removed]",
      "text/plain": [
       "<Figure size 432x288 with 1 Axes>"
      ]
     },
     "metadata": {
      "needs_background": "light"
     },
     "output_type": "display_data"
    },
    {
     "data": {
      "image/png": "[encoded data removed]",
      "text/plain": [
       "<Figure size 432x288 with 1 Axes>"
      ]
     },
     "metadata": {
      "needs_background": "light"
     },
     "output_type": "display_data"
    },
    {
     "data": {
      "image/png": "[encoded data removed]",
      "text/plain": [
       "<Figure size 1080x720 with 3 Axes>"
      ]
     },
     "metadata": {
      "needs_background": "light"
     },
     "output_type": "display_data"
    }
   ],
   "source": [
    "x=list(range(1,train_data.shape[0]+1))\n",
    "plt.scatter(x[:1000],train_data['pressure'][:1000],c='r',label='pressure')\n",
    "plt.figure()\n",
    "plt.scatter(x[:1000],train_data['u_in'][:1000],c='y',label='u_in')\n",
    "plt.figure()\n",
    "plt.scatter(x[:1000],train_data['time_step'][:1000],c='g',label='time_step')\n",
    "plt.legend()\n",
    "column=['R','C','u_out']\n",
    "i=1\n",
    "plt.figure(figsize=(15,10))\n",
    "for col in column:\n",
    "    plt.subplot(1,3,i)\n",
    "    sns.countplot(x=col,data=train_data)\n",
    "    i+=1"
   ]
  },
  {
   "cell_type": "markdown",
   "id": "30b0fa3c",
   "metadata": {
    "papermill": {
     "duration": 0.011517,
     "end_time": "2022-12-30T00:44:11.074748",
     "exception": false,
     "start_time": "2022-12-30T00:44:11.063231",
     "status": "completed"
    },
    "tags": []
   },
   "source": [
    "# Dropping columns"
   ]
  },
  {
   "cell_type": "code",
   "execution_count": 12,
   "id": "81446a0b",
   "metadata": {
    "execution": {
     "iopub.execute_input": "2022-12-30T00:44:11.100832Z",
     "iopub.status.busy": "2022-12-30T00:44:11.099840Z",
     "iopub.status.idle": "2022-12-30T00:44:11.771508Z",
     "shell.execute_reply": "2022-12-30T00:44:11.769988Z"
    },
    "papermill": {
     "duration": 0.688146,
     "end_time": "2022-12-30T00:44:11.774622",
     "exception": false,
     "start_time": "2022-12-30T00:44:11.086476",
     "status": "completed"
    },
    "tags": []
   },
   "outputs": [],
   "source": [
    "id=test_data['id']\n",
    "train_data.drop('id',axis=1,inplace=True)\n",
    "train_data.drop('breath_id',axis=1,inplace=True)\n",
    "test_data.drop('id',axis=1,inplace=True)\n",
    "test_data.drop('breath_id',axis=1,inplace=True)"
   ]
  },
  {
   "cell_type": "markdown",
   "id": "fdc12862",
   "metadata": {
    "papermill": {
     "duration": 0.011542,
     "end_time": "2022-12-30T00:44:11.798306",
     "exception": false,
     "start_time": "2022-12-30T00:44:11.786764",
     "status": "completed"
    },
    "tags": []
   },
   "source": [
    "# Splitting the input X and output y"
   ]
  },
  {
   "cell_type": "code",
   "execution_count": 13,
   "id": "6cfb0746",
   "metadata": {
    "execution": {
     "iopub.execute_input": "2022-12-30T00:44:11.825242Z",
     "iopub.status.busy": "2022-12-30T00:44:11.824771Z",
     "iopub.status.idle": "2022-12-30T00:44:11.975756Z",
     "shell.execute_reply": "2022-12-30T00:44:11.974081Z"
    },
    "papermill": {
     "duration": 0.168479,
     "end_time": "2022-12-30T00:44:11.978644",
     "exception": false,
     "start_time": "2022-12-30T00:44:11.810165",
     "status": "completed"
    },
    "tags": []
   },
   "outputs": [],
   "source": [
    "X=train_data.iloc[:,:-1]\n",
    "y=train_data.iloc[:,-1]\n",
    "key=X.keys()"
   ]
  },
  {
   "cell_type": "markdown",
   "id": "e65be4d2",
   "metadata": {
    "papermill": {
     "duration": 0.011575,
     "end_time": "2022-12-30T00:44:12.002313",
     "exception": false,
     "start_time": "2022-12-30T00:44:11.990738",
     "status": "completed"
    },
    "tags": []
   },
   "source": [
    "# Input (X)"
   ]
  },
  {
   "cell_type": "code",
   "execution_count": 14,
   "id": "03db7749",
   "metadata": {
    "execution": {
     "iopub.execute_input": "2022-12-30T00:44:12.028004Z",
     "iopub.status.busy": "2022-12-30T00:44:12.027530Z",
     "iopub.status.idle": "2022-12-30T00:44:12.046130Z",
     "shell.execute_reply": "2022-12-30T00:44:12.044681Z"
    },
    "papermill": {
     "duration": 0.034561,
     "end_time": "2022-12-30T00:44:12.048732",
     "exception": false,
     "start_time": "2022-12-30T00:44:12.014171",
     "status": "completed"
    },
    "tags": []
   },
   "outputs": [
    {
     "data": {
      "text/html": [
       "<div>\n",
       "<style scoped>\n",
       "    .dataframe tbody tr th:only-of-type {\n",
       "        vertical-align: middle;\n",
       "    }\n",
       "\n",
       "    .dataframe tbody tr th {\n",
       "        vertical-align: top;\n",
       "    }\n",
       "\n",
       "    .dataframe thead th {\n",
       "        text-align: right;\n",
       "    }\n",
       "</style>\n",
       "<table border=\"1\" class=\"dataframe\">\n",
       "  <thead>\n",
       "    <tr style=\"text-align: right;\">\n",
       "      <th></th>\n",
       "      <th>R</th>\n",
       "      <th>C</th>\n",
       "      <th>time_step</th>\n",
       "      <th>u_in</th>\n",
       "      <th>u_out</th>\n",
       "    </tr>\n",
       "  </thead>\n",
       "  <tbody>\n",
       "    <tr>\n",
       "      <th>0</th>\n",
       "      <td>20</td>\n",
       "      <td>50</td>\n",
       "      <td>0.000000</td>\n",
       "      <td>0.083334</td>\n",
       "      <td>0</td>\n",
       "    </tr>\n",
       "    <tr>\n",
       "      <th>1</th>\n",
       "      <td>20</td>\n",
       "      <td>50</td>\n",
       "      <td>0.033652</td>\n",
       "      <td>18.383041</td>\n",
       "      <td>0</td>\n",
       "    </tr>\n",
       "    <tr>\n",
       "      <th>2</th>\n",
       "      <td>20</td>\n",
       "      <td>50</td>\n",
       "      <td>0.067514</td>\n",
       "      <td>22.509278</td>\n",
       "      <td>0</td>\n",
       "    </tr>\n",
       "    <tr>\n",
       "      <th>3</th>\n",
       "      <td>20</td>\n",
       "      <td>50</td>\n",
       "      <td>0.101542</td>\n",
       "      <td>22.808822</td>\n",
       "      <td>0</td>\n",
       "    </tr>\n",
       "    <tr>\n",
       "      <th>4</th>\n",
       "      <td>20</td>\n",
       "      <td>50</td>\n",
       "      <td>0.135756</td>\n",
       "      <td>25.355850</td>\n",
       "      <td>0</td>\n",
       "    </tr>\n",
       "    <tr>\n",
       "      <th>...</th>\n",
       "      <td>...</td>\n",
       "      <td>...</td>\n",
       "      <td>...</td>\n",
       "      <td>...</td>\n",
       "      <td>...</td>\n",
       "    </tr>\n",
       "    <tr>\n",
       "      <th>6035995</th>\n",
       "      <td>50</td>\n",
       "      <td>10</td>\n",
       "      <td>2.504603</td>\n",
       "      <td>1.489714</td>\n",
       "      <td>1</td>\n",
       "    </tr>\n",
       "    <tr>\n",
       "      <th>6035996</th>\n",
       "      <td>50</td>\n",
       "      <td>10</td>\n",
       "      <td>2.537961</td>\n",
       "      <td>1.488497</td>\n",
       "      <td>1</td>\n",
       "    </tr>\n",
       "    <tr>\n",
       "      <th>6035997</th>\n",
       "      <td>50</td>\n",
       "      <td>10</td>\n",
       "      <td>2.571408</td>\n",
       "      <td>1.558978</td>\n",
       "      <td>1</td>\n",
       "    </tr>\n",
       "    <tr>\n",
       "      <th>6035998</th>\n",
       "      <td>50</td>\n",
       "      <td>10</td>\n",
       "      <td>2.604744</td>\n",
       "      <td>1.272663</td>\n",
       "      <td>1</td>\n",
       "    </tr>\n",
       "    <tr>\n",
       "      <th>6035999</th>\n",
       "      <td>50</td>\n",
       "      <td>10</td>\n",
       "      <td>2.638017</td>\n",
       "      <td>1.482739</td>\n",
       "      <td>1</td>\n",
       "    </tr>\n",
       "  </tbody>\n",
       "</table>\n",
       "<p>6036000 rows × 5 columns</p>\n",
       "</div>"
      ],
      "text/plain": [
       "          R   C  time_step       u_in  u_out\n",
       "0        20  50   0.000000   0.083334      0\n",
       "1        20  50   0.033652  18.383041      0\n",
       "2        20  50   0.067514  22.509278      0\n",
       "3        20  50   0.101542  22.808822      0\n",
       "4        20  50   0.135756  25.355850      0\n",
       "...      ..  ..        ...        ...    ...\n",
       "6035995  50  10   2.504603   1.489714      1\n",
       "6035996  50  10   2.537961   1.488497      1\n",
       "6035997  50  10   2.571408   1.558978      1\n",
       "6035998  50  10   2.604744   1.272663      1\n",
       "6035999  50  10   2.638017   1.482739      1\n",
       "\n",
       "[6036000 rows x 5 columns]"
      ]
     },
     "execution_count": 14,
     "metadata": {},
     "output_type": "execute_result"
    }
   ],
   "source": [
    "X"
   ]
  },
  {
   "cell_type": "markdown",
   "id": "833b680b",
   "metadata": {
    "papermill": {
     "duration": 0.012042,
     "end_time": "2022-12-30T00:44:12.073543",
     "exception": false,
     "start_time": "2022-12-30T00:44:12.061501",
     "status": "completed"
    },
    "tags": []
   },
   "source": [
    "# Target (y)"
   ]
  },
  {
   "cell_type": "code",
   "execution_count": 15,
   "id": "64c0dcee",
   "metadata": {
    "execution": {
     "iopub.execute_input": "2022-12-30T00:44:12.100384Z",
     "iopub.status.busy": "2022-12-30T00:44:12.099938Z",
     "iopub.status.idle": "2022-12-30T00:44:12.109951Z",
     "shell.execute_reply": "2022-12-30T00:44:12.108618Z"
    },
    "papermill": {
     "duration": 0.026738,
     "end_time": "2022-12-30T00:44:12.112631",
     "exception": false,
     "start_time": "2022-12-30T00:44:12.085893",
     "status": "completed"
    },
    "tags": []
   },
   "outputs": [
    {
     "data": {
      "text/plain": [
       "0           5.837492\n",
       "1           5.907794\n",
       "2           7.876254\n",
       "3          11.742872\n",
       "4          12.234987\n",
       "             ...    \n",
       "6035995     3.869032\n",
       "6035996     3.869032\n",
       "6035997     3.798729\n",
       "6035998     4.079938\n",
       "6035999     3.869032\n",
       "Name: pressure, Length: 6036000, dtype: float64"
      ]
     },
     "execution_count": 15,
     "metadata": {},
     "output_type": "execute_result"
    }
   ],
   "source": [
    "y"
   ]
  },
  {
   "cell_type": "markdown",
   "id": "00aa91a6",
   "metadata": {
    "papermill": {
     "duration": 0.01206,
     "end_time": "2022-12-30T00:44:12.137168",
     "exception": false,
     "start_time": "2022-12-30T00:44:12.125108",
     "status": "completed"
    },
    "tags": []
   },
   "source": [
    "# Scalling- MinMaxScaler "
   ]
  },
  {
   "cell_type": "code",
   "execution_count": 16,
   "id": "834678fc",
   "metadata": {
    "execution": {
     "iopub.execute_input": "2022-12-30T00:44:12.164338Z",
     "iopub.status.busy": "2022-12-30T00:44:12.163892Z",
     "iopub.status.idle": "2022-12-30T00:44:13.494761Z",
     "shell.execute_reply": "2022-12-30T00:44:13.493171Z"
    },
    "papermill": {
     "duration": 1.347801,
     "end_time": "2022-12-30T00:44:13.497624",
     "exception": false,
     "start_time": "2022-12-30T00:44:12.149823",
     "status": "completed"
    },
    "tags": []
   },
   "outputs": [
    {
     "data": {
      "text/html": [
       "<div>\n",
       "<style scoped>\n",
       "    .dataframe tbody tr th:only-of-type {\n",
       "        vertical-align: middle;\n",
       "    }\n",
       "\n",
       "    .dataframe tbody tr th {\n",
       "        vertical-align: top;\n",
       "    }\n",
       "\n",
       "    .dataframe thead th {\n",
       "        text-align: right;\n",
       "    }\n",
       "</style>\n",
       "<table border=\"1\" class=\"dataframe\">\n",
       "  <thead>\n",
       "    <tr style=\"text-align: right;\">\n",
       "      <th></th>\n",
       "      <th>R</th>\n",
       "      <th>C</th>\n",
       "      <th>time_step</th>\n",
       "      <th>u_in</th>\n",
       "      <th>u_out</th>\n",
       "    </tr>\n",
       "  </thead>\n",
       "  <tbody>\n",
       "    <tr>\n",
       "      <th>0</th>\n",
       "      <td>0.333333</td>\n",
       "      <td>1.0</td>\n",
       "      <td>0.000000</td>\n",
       "      <td>0.000833</td>\n",
       "      <td>0.0</td>\n",
       "    </tr>\n",
       "    <tr>\n",
       "      <th>1</th>\n",
       "      <td>0.333333</td>\n",
       "      <td>1.0</td>\n",
       "      <td>0.011457</td>\n",
       "      <td>0.183830</td>\n",
       "      <td>0.0</td>\n",
       "    </tr>\n",
       "    <tr>\n",
       "      <th>2</th>\n",
       "      <td>0.333333</td>\n",
       "      <td>1.0</td>\n",
       "      <td>0.022986</td>\n",
       "      <td>0.225093</td>\n",
       "      <td>0.0</td>\n",
       "    </tr>\n",
       "    <tr>\n",
       "      <th>3</th>\n",
       "      <td>0.333333</td>\n",
       "      <td>1.0</td>\n",
       "      <td>0.034571</td>\n",
       "      <td>0.228088</td>\n",
       "      <td>0.0</td>\n",
       "    </tr>\n",
       "    <tr>\n",
       "      <th>4</th>\n",
       "      <td>0.333333</td>\n",
       "      <td>1.0</td>\n",
       "      <td>0.046219</td>\n",
       "      <td>0.253559</td>\n",
       "      <td>0.0</td>\n",
       "    </tr>\n",
       "    <tr>\n",
       "      <th>...</th>\n",
       "      <td>...</td>\n",
       "      <td>...</td>\n",
       "      <td>...</td>\n",
       "      <td>...</td>\n",
       "      <td>...</td>\n",
       "    </tr>\n",
       "    <tr>\n",
       "      <th>6035995</th>\n",
       "      <td>1.000000</td>\n",
       "      <td>0.0</td>\n",
       "      <td>0.852707</td>\n",
       "      <td>0.014897</td>\n",
       "      <td>1.0</td>\n",
       "    </tr>\n",
       "    <tr>\n",
       "      <th>6035996</th>\n",
       "      <td>1.000000</td>\n",
       "      <td>0.0</td>\n",
       "      <td>0.864064</td>\n",
       "      <td>0.014885</td>\n",
       "      <td>1.0</td>\n",
       "    </tr>\n",
       "    <tr>\n",
       "      <th>6035997</th>\n",
       "      <td>1.000000</td>\n",
       "      <td>0.0</td>\n",
       "      <td>0.875451</td>\n",
       "      <td>0.015590</td>\n",
       "      <td>1.0</td>\n",
       "    </tr>\n",
       "    <tr>\n",
       "      <th>6035998</th>\n",
       "      <td>1.000000</td>\n",
       "      <td>0.0</td>\n",
       "      <td>0.886801</td>\n",
       "      <td>0.012727</td>\n",
       "      <td>1.0</td>\n",
       "    </tr>\n",
       "    <tr>\n",
       "      <th>6035999</th>\n",
       "      <td>1.000000</td>\n",
       "      <td>0.0</td>\n",
       "      <td>0.898129</td>\n",
       "      <td>0.014827</td>\n",
       "      <td>1.0</td>\n",
       "    </tr>\n",
       "  </tbody>\n",
       "</table>\n",
       "<p>6036000 rows × 5 columns</p>\n",
       "</div>"
      ],
      "text/plain": [
       "                R    C  time_step      u_in  u_out\n",
       "0        0.333333  1.0   0.000000  0.000833    0.0\n",
       "1        0.333333  1.0   0.011457  0.183830    0.0\n",
       "2        0.333333  1.0   0.022986  0.225093    0.0\n",
       "3        0.333333  1.0   0.034571  0.228088    0.0\n",
       "4        0.333333  1.0   0.046219  0.253559    0.0\n",
       "...           ...  ...        ...       ...    ...\n",
       "6035995  1.000000  0.0   0.852707  0.014897    1.0\n",
       "6035996  1.000000  0.0   0.864064  0.014885    1.0\n",
       "6035997  1.000000  0.0   0.875451  0.015590    1.0\n",
       "6035998  1.000000  0.0   0.886801  0.012727    1.0\n",
       "6035999  1.000000  0.0   0.898129  0.014827    1.0\n",
       "\n",
       "[6036000 rows x 5 columns]"
      ]
     },
     "execution_count": 16,
     "metadata": {},
     "output_type": "execute_result"
    }
   ],
   "source": [
    "scaler = MinMaxScaler(copy=True, feature_range=(0, 1))\n",
    "X = scaler.fit_transform(X)\n",
    "test_data=scaler.fit_transform(test_data)\n",
    "pd.DataFrame(X,columns=key)"
   ]
  },
  {
   "cell_type": "markdown",
   "id": "d4d1e188",
   "metadata": {
    "papermill": {
     "duration": 0.012305,
     "end_time": "2022-12-30T00:44:13.522691",
     "exception": false,
     "start_time": "2022-12-30T00:44:13.510386",
     "status": "completed"
    },
    "tags": []
   },
   "source": [
    "# Splitting data into train and test."
   ]
  },
  {
   "cell_type": "code",
   "execution_count": 17,
   "id": "56f992e7",
   "metadata": {
    "execution": {
     "iopub.execute_input": "2022-12-30T00:44:13.550289Z",
     "iopub.status.busy": "2022-12-30T00:44:13.549843Z",
     "iopub.status.idle": "2022-12-30T00:44:15.173851Z",
     "shell.execute_reply": "2022-12-30T00:44:15.172567Z"
    },
    "papermill": {
     "duration": 1.641045,
     "end_time": "2022-12-30T00:44:15.176681",
     "exception": false,
     "start_time": "2022-12-30T00:44:13.535636",
     "status": "completed"
    },
    "tags": []
   },
   "outputs": [
    {
     "name": "stdout",
     "output_type": "stream",
     "text": [
      "X_train shape is  (4044120, 5)\n",
      "X_test shape is  (1991880, 5)\n",
      "y_train shape is  (4044120,)\n",
      "y_test shape is  (1991880,)\n"
     ]
    }
   ],
   "source": [
    "X_train, X_test, y_train, y_test = train_test_split(X, y, test_size=0.33, random_state=44, shuffle =True)\n",
    "print('X_train shape is ' , X_train.shape)\n",
    "print('X_test shape is ' , X_test.shape)\n",
    "print('y_train shape is ' , y_train.shape)\n",
    "print('y_test shape is ' , y_test.shape) "
   ]
  },
  {
   "cell_type": "markdown",
   "id": "68a8f834",
   "metadata": {
    "papermill": {
     "duration": 0.015395,
     "end_time": "2022-12-30T00:44:15.205056",
     "exception": false,
     "start_time": "2022-12-30T00:44:15.189661",
     "status": "completed"
    },
    "tags": []
   },
   "source": [
    "# Performing Random Forest Regressor Model "
   ]
  },
  {
   "cell_type": "code",
   "execution_count": 18,
   "id": "eebd505b",
   "metadata": {
    "execution": {
     "iopub.execute_input": "2022-12-30T00:44:15.234361Z",
     "iopub.status.busy": "2022-12-30T00:44:15.233190Z",
     "iopub.status.idle": "2022-12-30T01:31:37.910829Z",
     "shell.execute_reply": "2022-12-30T01:31:37.909384Z"
    },
    "papermill": {
     "duration": 2842.70835,
     "end_time": "2022-12-30T01:31:37.926577",
     "exception": false,
     "start_time": "2022-12-30T00:44:15.218227",
     "status": "completed"
    },
    "tags": []
   },
   "outputs": [
    {
     "name": "stdout",
     "output_type": "stream",
     "text": [
      "Random Forest Regressor Train Score is :  0.8854829533564718\n",
      "Random Forest Regressor Test Score is :  0.7803964838854669\n",
      "Random Forest Regressor No. of features are :  5\n"
     ]
    },
    {
     "name": "stderr",
     "output_type": "stream",
     "text": [
      "/opt/conda/lib/python3.7/site-packages/sklearn/utils/deprecation.py:103: FutureWarning: Attribute `n_features_` was deprecated in version 1.0 and will be removed in 1.2. Use `n_features_in_` instead.\n",
      "  warnings.warn(msg, category=FutureWarning)\n"
     ]
    },
    {
     "name": "stdout",
     "output_type": "stream",
     "text": [
      "Predicted Value for Random Forest Regressor is :  [11.07800699 19.52671074  5.45233595  6.02983589  6.07573396  7.1016047\n",
      " 19.5162863   6.44321104 17.49098513  6.04287624]\n"
     ]
    }
   ],
   "source": [
    "RandomForestRegressorModel = RandomForestRegressor(n_estimators=100,max_depth=25, random_state=33)\n",
    "RandomForestRegressorModel.fit(X_train, y_train)\n",
    "#Calculating Details\n",
    "print('Random Forest Regressor Train Score is : ' , RandomForestRegressorModel.score(X_train, y_train))\n",
    "print('Random Forest Regressor Test Score is : ' , RandomForestRegressorModel.score(X_test, y_test))\n",
    "print('Random Forest Regressor No. of features are : ' , RandomForestRegressorModel.n_features_)\n",
    "#Calculating Prediction\n",
    "y_pred = RandomForestRegressorModel.predict(X_test)\n",
    "print('Predicted Value for Random Forest Regressor is : ' , y_pred[:10])"
   ]
  },
  {
   "cell_type": "markdown",
   "id": "6a6fe745",
   "metadata": {},
   "source": [
    "# Evaluating the metrics.\n",
    "\n",
    "To analysis the performance of the model fitted."
   ]
  },
  {
   "cell_type": "code",
   "execution_count": 19,
   "id": "a91e116a",
   "metadata": {
    "execution": {
     "iopub.execute_input": "2022-12-30T01:31:37.955141Z",
     "iopub.status.busy": "2022-12-30T01:31:37.954410Z",
     "iopub.status.idle": "2022-12-30T01:31:38.036870Z",
     "shell.execute_reply": "2022-12-30T01:31:38.035491Z"
    },
    "papermill": {
     "duration": 0.099888,
     "end_time": "2022-12-30T01:31:38.039659",
     "exception": false,
     "start_time": "2022-12-30T01:31:37.939771",
     "status": "completed"
    },
    "tags": []
   },
   "outputs": [
    {
     "name": "stdout",
     "output_type": "stream",
     "text": [
      "Mean Absolute Error Value is :  1.8713692762216023\n",
      "Mean Squared Error Value is :  14.452494233412335\n",
      "Median Absolute Error Value is :  0.4821289415154695\n"
     ]
    }
   ],
   "source": [
    "#Calculating Mean Absolute Error\n",
    "MAEValue = mean_absolute_error(y_test, y_pred, multioutput='uniform_average') # it can be raw_values\n",
    "print('Mean Absolute Error Value is : ', MAEValue)\n",
    "\n",
    "#----------------------------------------------------\n",
    "#Calculating Mean Squared Error\n",
    "MSEValue = mean_squared_error(y_test, y_pred, multioutput='uniform_average') # it can be raw_values\n",
    "print('Mean Squared Error Value is : ', MSEValue)\n",
    "\n",
    "#----------------------------------------------------\n",
    "#Calculating Median Absolute Error\n",
    "MdSEValue = median_absolute_error(y_test, y_pred)\n",
    "print('Median Absolute Error Value is : ', MdSEValue )"
   ]
  },
  {
   "cell_type": "markdown",
   "id": "a9798ebe",
   "metadata": {
    "papermill": {
     "duration": 0.012602,
     "end_time": "2022-12-30T01:31:38.065449",
     "exception": false,
     "start_time": "2022-12-30T01:31:38.052847",
     "status": "completed"
    },
    "tags": []
   },
   "source": [
    "# Plotting actual  and pred value."
   ]
  },
  {
   "cell_type": "code",
   "execution_count": 20,
   "id": "2f8cc006",
   "metadata": {
    "execution": {
     "iopub.execute_input": "2022-12-30T01:31:38.094139Z",
     "iopub.status.busy": "2022-12-30T01:31:38.093692Z",
     "iopub.status.idle": "2022-12-30T01:38:02.191993Z",
     "shell.execute_reply": "2022-12-30T01:38:02.190308Z"
    },
    "papermill": {
     "duration": 384.115931,
     "end_time": "2022-12-30T01:38:02.194709",
     "exception": false,
     "start_time": "2022-12-30T01:31:38.078778",
     "status": "completed"
    },
    "tags": []
   },
   "outputs": [
    {
     "data": {
      "text/plain": [
       "<matplotlib.legend.Legend at 0x7f5714649590>"
      ]
     },
     "execution_count": 20,
     "metadata": {},
     "output_type": "execute_result"
    },
    {
     "data": {
      "image/png": "[encoded data removed]",
      "text/plain": [
       "<Figure size 432x288 with 1 Axes>"
      ]
     },
     "metadata": {
      "needs_background": "light"
     },
     "output_type": "display_data"
    },
    {
     "data": {
      "image/png": "[encoded data removed]",
      "text/plain": [
       "<Figure size 432x288 with 1 Axes>"
      ]
     },
     "metadata": {
      "needs_background": "light"
     },
     "output_type": "display_data"
    }
   ],
   "source": [
    "x=list(range(1,train_data.shape[0]+1))\n",
    "plt.plot(x[:1000],y_test[:1000],c='r',label='y_test')\n",
    "plt.scatter(x[:1000],y_pred[:1000],c='y',label='y_pred')\n",
    "plt.figure()\n",
    "plt.plot(x[:1000],y_train[:1000],c='r',label='y_train')\n",
    "plt.scatter(x[:1000],RandomForestRegressorModel.predict(X_train)[:1000],c='y',label='y_pred')\n",
    "plt.title('y_actual & y_pred')\n",
    "plt.legend()"
   ]
  },
  {
   "cell_type": "markdown",
   "id": "b1ada236",
   "metadata": {
    "papermill": {
     "duration": 0.014256,
     "end_time": "2022-12-30T01:38:02.224389",
     "exception": false,
     "start_time": "2022-12-30T01:38:02.210133",
     "status": "completed"
    },
    "tags": []
   },
   "source": [
    "# Predicting test_data"
   ]
  },
  {
   "cell_type": "code",
   "execution_count": 21,
   "id": "ba350973",
   "metadata": {
    "execution": {
     "iopub.execute_input": "2022-12-30T01:38:02.255759Z",
     "iopub.status.busy": "2022-12-30T01:38:02.255263Z",
     "iopub.status.idle": "2022-12-30T01:43:49.003180Z",
     "shell.execute_reply": "2022-12-30T01:43:49.001676Z"
    },
    "papermill": {
     "duration": 346.782697,
     "end_time": "2022-12-30T01:43:49.021566",
     "exception": false,
     "start_time": "2022-12-30T01:38:02.238869",
     "status": "completed"
    },
    "tags": []
   },
   "outputs": [
    {
     "data": {
      "text/html": [
       "<div>\n",
       "<style scoped>\n",
       "    .dataframe tbody tr th:only-of-type {\n",
       "        vertical-align: middle;\n",
       "    }\n",
       "\n",
       "    .dataframe tbody tr th {\n",
       "        vertical-align: top;\n",
       "    }\n",
       "\n",
       "    .dataframe thead th {\n",
       "        text-align: right;\n",
       "    }\n",
       "</style>\n",
       "<table border=\"1\" class=\"dataframe\">\n",
       "  <thead>\n",
       "    <tr style=\"text-align: right;\">\n",
       "      <th></th>\n",
       "      <th>pressure</th>\n",
       "    </tr>\n",
       "    <tr>\n",
       "      <th>id</th>\n",
       "      <th></th>\n",
       "    </tr>\n",
       "  </thead>\n",
       "  <tbody>\n",
       "    <tr>\n",
       "      <th>1</th>\n",
       "      <td>6.314524</td>\n",
       "    </tr>\n",
       "    <tr>\n",
       "      <th>2</th>\n",
       "      <td>5.983199</td>\n",
       "    </tr>\n",
       "    <tr>\n",
       "      <th>3</th>\n",
       "      <td>6.818115</td>\n",
       "    </tr>\n",
       "    <tr>\n",
       "      <th>4</th>\n",
       "      <td>7.661462</td>\n",
       "    </tr>\n",
       "    <tr>\n",
       "      <th>5</th>\n",
       "      <td>9.019264</td>\n",
       "    </tr>\n",
       "    <tr>\n",
       "      <th>...</th>\n",
       "      <td>...</td>\n",
       "    </tr>\n",
       "    <tr>\n",
       "      <th>4023996</th>\n",
       "      <td>6.032265</td>\n",
       "    </tr>\n",
       "    <tr>\n",
       "      <th>4023997</th>\n",
       "      <td>6.101888</td>\n",
       "    </tr>\n",
       "    <tr>\n",
       "      <th>4023998</th>\n",
       "      <td>6.100420</td>\n",
       "    </tr>\n",
       "    <tr>\n",
       "      <th>4023999</th>\n",
       "      <td>6.015529</td>\n",
       "    </tr>\n",
       "    <tr>\n",
       "      <th>4024000</th>\n",
       "      <td>6.056355</td>\n",
       "    </tr>\n",
       "  </tbody>\n",
       "</table>\n",
       "<p>4024000 rows × 1 columns</p>\n",
       "</div>"
      ],
      "text/plain": [
       "         pressure\n",
       "id               \n",
       "1        6.314524\n",
       "2        5.983199\n",
       "3        6.818115\n",
       "4        7.661462\n",
       "5        9.019264\n",
       "...           ...\n",
       "4023996  6.032265\n",
       "4023997  6.101888\n",
       "4023998  6.100420\n",
       "4023999  6.015529\n",
       "4024000  6.056355\n",
       "\n",
       "[4024000 rows x 1 columns]"
      ]
     },
     "execution_count": 21,
     "metadata": {},
     "output_type": "execute_result"
    }
   ],
   "source": [
    "y_test=RandomForestRegressorModel.predict(test_data)\n",
    "submission=pd.DataFrame(index=id)\n",
    "submission['pressure']=y_test\n",
    "submission.to_csv('/kaggle/working/submission.csv')\n",
    "submission"
   ]
  }
 ],
 "metadata": {
  "kernelspec": {
   "display_name": "Python 3 (ipykernel)",
   "language": "python",
   "name": "python3"
  },
  "language_info": {
   "codemirror_mode": {
    "name": "ipython",
    "version": 3
   },
   "file_extension": ".py",
   "mimetype": "text/x-python",
   "name": "python",
   "nbconvert_exporter": "python",
   "pygments_lexer": "ipython3",
   "version": "3.9.12"
  },
  "papermill": {
   "default_parameters": {},
   "duration": 3622.829829,
   "end_time": "2022-12-30T01:43:50.772916",
   "environment_variables": {},
   "exception": null,
   "input_path": "__notebook__.ipynb",
   "output_path": "__notebook__.ipynb",
   "parameters": {},
   "start_time": "2022-12-30T00:43:27.943087",
   "version": "2.3.4"
  }
 },
 "nbformat": 4,
 "nbformat_minor": 5
}
